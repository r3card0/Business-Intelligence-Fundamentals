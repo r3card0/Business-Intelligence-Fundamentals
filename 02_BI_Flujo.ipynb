{
 "cells": [
  {
   "cell_type": "markdown",
   "metadata": {},
   "source": [
    "# Flujo"
   ]
  },
  {
   "cell_type": "markdown",
   "metadata": {},
   "source": [
    "## Extracción de datos\n",
    "\n",
    "- Diversidad de fuentes\n",
    "- Silos de información\n",
    "- Extracción de datosn de diferentes softwares\n",
    "\n",
    "Silos de información. Son fuentes de datos aisladas o con poca relación con las demás areas de la organización\n",
    "\n",
    "* Tipos de archivo: csv, textos"
   ]
  },
  {
   "cell_type": "markdown",
   "metadata": {},
   "source": [
    "## Limpieza de datos: Excel y Python\n",
    "\n",
    "\n",
    "Python, usar librerias como: numpy y pandas. Dataframe??\n",
    "\n",
    "Python usado en un análisis de una página web y las palabras que más se repiten dentro de ella. Librerías usadas: pandas. request, numpy,collection y beautifulsoup."
   ]
  },
  {
   "cell_type": "markdown",
   "metadata": {},
   "source": [
    "## Exploración de datos\n",
    "\n",
    "- Es la etapa que más tiempo ocupa.\n",
    "\n",
    "- Realizar preguntas que no se sabía que existían.\n",
    "\n",
    "- Cambios de hipótesis iniciales.\n",
    "\n",
    "- Es muy normal que las preguntas cambien despues de la exloración de datos\n",
    "\n",
    "- Softwares comúnmentes más usados: Excel, Python, Tableau y PowerBI\n",
    "\n"
   ]
  },
  {
   "cell_type": "markdown",
   "metadata": {},
   "source": [
    "## Descubrimientos, highlight, top y bottom data\n",
    "\n",
    "- Encontrar patrones o temporales\n",
    "- Correlaciones entre valores"
   ]
  },
  {
   "cell_type": "markdown",
   "metadata": {},
   "source": [
    "## Reporting\n",
    "- Pensar en la audiencia\n",
    "- Pensar en el mensaje que se quiere dar, involucrando los descubrimientos, highlights, etc.\n",
    "- Forma en que se va  a presentar: Reportes dinámicos (impresos, PowerPoint), o dinámicos (PowerBI y Tableau)\n",
    "- Implementar buenas prácticas en visualización de datos.. Tendencias, Imagenes\n",
    "- Contexto, dashboards y storytelling\n",
    "- Describir descubirmientos, y sugerencias"
   ]
  },
  {
   "cell_type": "markdown",
   "metadata": {},
   "source": [
    "## Caso practico: Reporte dinámico"
   ]
  },
  {
   "cell_type": "markdown",
   "metadata": {},
   "source": [
    "## Caso practico: Análisis del Income Statement"
   ]
  }
 ],
 "metadata": {
  "interpreter": {
   "hash": "0b9b3534f52d1960e4aa53bcc60f839557f7d708424ee9b7bdf308f259cc36bc"
  },
  "kernelspec": {
   "display_name": "Python 3.10.0 64-bit ('venv_bi': venv)",
   "language": "python",
   "name": "python3"
  },
  "language_info": {
   "name": "python",
   "version": "3.10.0"
  },
  "orig_nbformat": 4
 },
 "nbformat": 4,
 "nbformat_minor": 2
}
