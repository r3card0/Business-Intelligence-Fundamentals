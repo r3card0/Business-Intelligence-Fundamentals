{
 "cells": [
  {
   "cell_type": "markdown",
   "metadata": {},
   "source": [
    "# Fundamentos\n",
    "\n",
    "## Business Intelligence\n",
    "\n",
    "##### Utiliza la información interna de cada organización (negocio) con el fin de realizar un análisis descriptivo del presente para descubrir las condiciones que rigen el comportamiento de la empresa.\n",
    "\n",
    "##### Esto es con el fin de incrementar utilidades, disminuir costos y mejorar procesos \n",
    "\n",
    "## Estructura de Business Intelligence BI: Recopilación, Análisis, Presentación\n",
    "\n",
    "La tarea del Business Intelligence es recopilar información de fuentes estructuradas y no estructuradas, ordenarla para posteriormente analizarla para descubrir patrones en las operaciones, procesos, etc, para que al final, se muestren los descubrimientos por medio de reportes, gráficas y realizar recomendaciones para mejorar.\n",
    "\n",
    "#### 1. Recopilación\n",
    "\n",
    "##### ETL\n",
    "\n",
    "* E - Extract\n",
    "* T - Transform\n",
    "* L - Load\n",
    "\n",
    "#### 2. Análisis\n",
    "\n",
    "- Exploración\n",
    "- Descrubrimiento\n",
    "- Reporting\n",
    "\n",
    "#### 3. Presentación\n",
    "\n",
    "- Visualización de datos\n",
    "- Storytelling\n",
    "- Recomendaciones\n",
    "\n",
    "*En Business Intelligence se le da prioridad a los intereses de los stakeholders.*\n"
   ]
  },
  {
   "cell_type": "markdown",
   "metadata": {},
   "source": [
    "## Stakeholders\n",
    "\n",
    "Personas de interés. Son las personas que están rodeando a la empresa y que tienen un interés de por medio:\n",
    "\n",
    "Ejemplos:\n",
    "- Accionistas\n",
    "- Clientes\n",
    "- Empleados\n",
    "- Proveedores\n",
    "- Sociedad\n",
    "- Gobierno\n",
    "\n",
    "\n",
    "Ejemplos de intereses de algunos stakeholders:\n",
    "\n",
    "- Accionistas: retorno de inversión\n",
    "- Clientes: Calidad de productos, servicios y necesidades\n",
    "- Empleado: seguridad  y estabilidad\n",
    "- Proveedores: estabilidad e ingresos\n",
    "\n",
    "Entender que dependiendo de la organización, se clasifican los stakeholders"
   ]
  },
  {
   "cell_type": "markdown",
   "metadata": {},
   "source": [
    "### La razón del Business Intelligence: *Salvaguardar los intereses de los stakeholders que tienen mayor prioridad dentro de la organización.*"
   ]
  },
  {
   "cell_type": "markdown",
   "metadata": {},
   "source": [
    "![prioridad](images/prioridad.png)\n",
    "\n",
    "### Por lo tanto, la persona del Business Intelligence, *realizara el análisis descriptivo de la empresa con el fin de identificar condiciones que estén afectando los inteses de los stakeholdes mas importantes de la organización.* "
   ]
  },
  {
   "cell_type": "markdown",
   "metadata": {},
   "source": [
    "## Tipos de empresas\n",
    "\n",
    "Hay dos tipos de empresas: servicios y productos\n",
    "\n",
    "En cada tipo de empresa, los stakeholders tienen intereses particulares. Es importante entender que los intereses cambian con el tipo de empresa.\n",
    "\n",
    "### El Income Statement, es una herramienta fundamental que nos dice que como se afectan los interesed de cada stakeholder\n",
    "\n",
    "* El Income Statement es un documento que da las pautas de como se afecta las necesidades de los stakeholders.  \n",
    "\n",
    "* El Income Statement permite ver como funcionan las utilidades dentro de la empresa.\n",
    "\n",
    "* Empresa con prioridades para los accionistas la utilidad es primordial y el Income Statement proporciona información de manera fácil y rápida  que es lo que está sucediendo dentro de la empresa.\n",
    "\n",
    "### Por lo tanto es importante entender la diferencia entre rubros. Ambas empresas realizan tareas determinadas. Por el tipo de actividad, se diferencian una de otra y se refleja en el estado de resultados: Income Statement\n",
    "\n",
    "*El documento Income Statemen se debe tener cerca en todo momento.*"
   ]
  },
  {
   "cell_type": "markdown",
   "metadata": {},
   "source": [
    "![Income](images/income_st1.png)"
   ]
  },
  {
   "cell_type": "markdown",
   "metadata": {},
   "source": [
    "### Información que contiene el Income Statement\n",
    "\n",
    "* Utilidad bruta\n",
    "* Utilidad Operativa\n",
    "* Utilidad Neta\n",
    "* Gastos de Operación \n",
    "\n",
    "* Afectación sobre utilidad -> afecta a la utilidad bruta."
   ]
  },
  {
   "cell_type": "markdown",
   "metadata": {},
   "source": [
    "Los gastos operativos o de operación: Se refiere a todos los gastos que se realizan mes con mes: Renta del local u oficinas donde se opera, nóminas, mercadotecnia. Es todo aquello que NO esté relacionado a la elaboración de los productos.\n",
    "\n",
    "- Nómina\n",
    "- Renta Local\n",
    "- Mercadotecnia\n",
    "- Servicios: Luz, agua, internet, etc"
   ]
  },
  {
   "cell_type": "markdown",
   "metadata": {},
   "source": [
    "### Afectación\n",
    "\n",
    "- La afectación es el proceso o acción dentro de la organización que disminuye o aumenta una utilidad.\n",
    "- Entendiendo que en las utilidades están los intereses de los stakeholders \n"
   ]
  },
  {
   "cell_type": "markdown",
   "metadata": {},
   "source": [
    "### ¿Cuál es una empresa de productos y una de servicios?\n",
    "![empresas](images/empresas.png)"
   ]
  },
  {
   "cell_type": "markdown",
   "metadata": {},
   "source": [
    "## Income Statement Simplificado: utilidad bruta, operativa y neta\n",
    "\n",
    "*Lo importante es identificar qué tarea o proceso está afectando cada utilidad.*\n",
    "\n",
    "- Utilidad bruta        = ingresos - Costos de venta\n",
    "- Utilidad Operativa    = Utilidad bruta - Gastos de Administración\n",
    "- Utilidad Neta         = Utilidad operativa - Otros gastos e ingresos - Impuestos\n"
   ]
  },
  {
   "cell_type": "code",
   "execution_count": null,
   "metadata": {},
   "outputs": [],
   "source": [
    "# Utilidad bruta = ingresos - Costos de venta\n",
    "ingresos = 100\n",
    "costos_delo_vendido = 50\n",
    "utilidad_bruta = ingresos - costos_delo_vendido\n",
    "\n",
    "print('Utilidad Bruta: $' + str(utilidad_bruta))\n",
    "\n"
   ]
  },
  {
   "cell_type": "code",
   "execution_count": null,
   "metadata": {},
   "outputs": [],
   "source": [
    "# Utilidad Operativa = Utilidad bruta - Gastos de Administración\n",
    "utilidad_bruta = 50\n",
    "gastos_operacion = 25\n",
    "utilidad_operativa = utilidad_bruta - gastos_operacion\n",
    "\n",
    "print('Utilidad Operativa: $' + str(utilidad_operativa))"
   ]
  },
  {
   "cell_type": "code",
   "execution_count": null,
   "metadata": {},
   "outputs": [],
   "source": [
    "# Utilidad Neta = Utilidad operativa - Otros gastos e ingresos - Impuestos\n",
    "utilidad_operativa = 25\n",
    "impuestos = utilidad_operativa * 0.3\n",
    "otros_gastos = 0\n",
    "utilidad_neta = utilidad_operativa - otros_gastos - impuestos\n",
    "\n",
    "print(\"Utilidad Neta: $\" + str(utilidad_neta))"
   ]
  },
  {
   "cell_type": "markdown",
   "metadata": {},
   "source": [
    "### ¿Qué utilidad afecta cada actividad?\n",
    "![reto](images/reto4.png)"
   ]
  },
  {
   "cell_type": "markdown",
   "metadata": {},
   "source": [
    "## Ingreso, utilidad y costos\n",
    "\n",
    "* Ingreso: Es todo aquello que entro a la empresa y que no se le han sustraido gastos. Ejemplo -> *ventas*\n",
    "* Utilidad: Es el remanente de sustraer los gastos\n",
    "* Costos: dinero que se usa para producir un producto, para pagar un servicio, nominas, rentas, etc.\n",
    "\n",
    "Analizar la utilidad bruta ayuda a entender que: *a mayor ingreso, no significa mayor utilidad*\n",
    "\n",
    "Tipos de Costos:\n",
    "- Costos fijo: se mantienen constantes cada periodo, mensual, semanal, semestral, anual, etc\n",
    "- Costos variable: Son los que varian de acuerdo a alguna estrategia\n",
    "- Costos semi variable: son aquellos que cambian por alguna actividad. Ejemplo, la luz\n",
    "\n",
    "*mayor costo no siempre significa menor utilidad* \n",
    "\n",
    "Ejemplo. Incremento en la mercadotecnia"
   ]
  },
  {
   "cell_type": "markdown",
   "metadata": {},
   "source": [
    "![costos](images/costos.png)"
   ]
  },
  {
   "cell_type": "markdown",
   "metadata": {},
   "source": [
    "## Margen de contribución\n",
    "\n",
    "Permite al Business Intelligence entender las afectaciones a la *utilidad bruta*\n",
    "\n",
    "### Definición de Margen de contribución = Precio del producto - Costos del producto\n",
    "\n",
    "* Saber el margen de contribucion, permite saber en cuanto se incrementa la utilidad bruta, solo se muliplica el margen de contribución por las piezas vendidas en un periodo.\n",
    "\n",
    "* El margen de contribución es importantes porque ayuda a encontrar el *punto de equilibrio*. Break even point\n",
    "\n",
    "* El punto de equilibrio es cuando no se tienen ganancias ni pérdidas.\n",
    "\n",
    "* Con el punto de equilibrio sabemos cuántas unidades tenemos que vender para no tener pérdidas. Es lo mínimo necesario para seguir operando.\n",
    "\n"
   ]
  },
  {
   "cell_type": "code",
   "execution_count": null,
   "metadata": {},
   "outputs": [],
   "source": [
    "# margen de contribución ejemplo\n",
    "costo_playera = 82\n",
    "precio_playera = 125\n",
    "margen_contribucion = precio_playera - costo_playera\n",
    "\n",
    "print(\"Margen de contribución: $\" + str(margen_contribucion))"
   ]
  },
  {
   "cell_type": "markdown",
   "metadata": {},
   "source": [
    "### Fórmula del punto de equilibrio\n",
    "![pe](images/pe.png)\n",
    "100 unidades necesarias para el punto de equilibrio"
   ]
  },
  {
   "cell_type": "code",
   "execution_count": 10,
   "metadata": {},
   "outputs": [
    {
     "name": "stdout",
     "output_type": "stream",
     "text": [
      "Punto de equilibrio es de:127 piezas\n"
     ]
    }
   ],
   "source": [
    "# punto de equilibrio\n",
    "costo_playera = 82\n",
    "precio_playera = 125\n",
    "margen_contribucion = precio_playera - costo_playera\n",
    "costos_fijos = 5430\n",
    "pe = costos_fijos / margen_contribucion\n",
    "pe = int(pe + 1) # formato\n",
    "\n",
    "print(\"Punto de equilibrio es de:\" + str(pe) + \" piezas\")"
   ]
  },
  {
   "cell_type": "markdown",
   "metadata": {},
   "source": [
    "## Razones matemáticas\n",
    "\n",
    "Pensar en porcentajes. Razón financiera.\n",
    "\n",
    "Ayudan a comparar rendimientos de forma mas sencilla.\n",
    "\n",
    "Razones financieras:\n",
    "\n",
    "* Utilidad / Ingresos -> por cada dolar que entra, cuanto queda en la utilidad\n",
    "* Margen de contribución / Precio -> aportación real a la utilidad bruta\n",
    "* Ventas de producto A / ventas totales -> cuanto aporta el producto A a las ventas totales"
   ]
  },
  {
   "cell_type": "code",
   "execution_count": 13,
   "metadata": {},
   "outputs": [
    {
     "name": "stdout",
     "output_type": "stream",
     "text": [
      "50.0 %\n"
     ]
    }
   ],
   "source": [
    "# Utilidad / Ingresos\n",
    "ingresos = 100\n",
    "costos_delo_vendido = 50\n",
    "utilidad_bruta = ingresos - costos_delo_vendido\n",
    "razon1 = (utilidad_bruta / ingresos) * 100\n",
    "\n",
    "print(razon1, \"%\")"
   ]
  }
 ],
 "metadata": {
  "interpreter": {
   "hash": "0b9b3534f52d1960e4aa53bcc60f839557f7d708424ee9b7bdf308f259cc36bc"
  },
  "kernelspec": {
   "display_name": "Python 3.10.0 64-bit ('venv_bi': venv)",
   "language": "python",
   "name": "python3"
  },
  "language_info": {
   "codemirror_mode": {
    "name": "ipython",
    "version": 3
   },
   "file_extension": ".py",
   "mimetype": "text/x-python",
   "name": "python",
   "nbconvert_exporter": "python",
   "pygments_lexer": "ipython3",
   "version": "3.10.0"
  },
  "orig_nbformat": 4
 },
 "nbformat": 4,
 "nbformat_minor": 2
}
