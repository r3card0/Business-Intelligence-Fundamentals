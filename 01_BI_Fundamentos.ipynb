{
 "cells": [
  {
   "cell_type": "markdown",
   "metadata": {},
   "source": [
    "# Fundamentos"
   ]
  },
  {
   "cell_type": "markdown",
   "metadata": {},
   "source": [
    "## Stakeholders\n",
    "\n",
    "Personas de interés. Son las personas que están rodeando a la empresa y que tienen un interés de por medio:\n",
    "\n",
    "Ejemplos:\n",
    "- Accionistas\n",
    "- Clientes\n",
    "- Empleados\n",
    "- Proveedores\n",
    "- Sociedad\n",
    "- Gobierno\n",
    "\n",
    "\n",
    "Los stakeholders tienen intereses, los cuales, son importantes de entender para . . .\n",
    "\n",
    "Ejemplos de intereses de algunos stakeholders:\n",
    "\n",
    "- Accionistas: retorno de inversión\n",
    "- Clientes: Calidad de productos, servicios y necesidades\n",
    "- Empleado: seguridad  y estabilidad\n",
    "- Proveedores: estabilidad e ingresos\n",
    "\n",
    "Entender que dependiendo de la organización, se clasifican los stakeholders"
   ]
  },
  {
   "cell_type": "markdown",
   "metadata": {},
   "source": [
    "### La razón del Business Intelligence: *Salvaguardar los intereses de los stakeholders, dependiendo de la jerarquía de los mismos dentro de la organización.*"
   ]
  },
  {
   "cell_type": "markdown",
   "metadata": {},
   "source": [
    "![prioridad](images/prioridad.png)"
   ]
  },
  {
   "cell_type": "markdown",
   "metadata": {},
   "source": [
    "## Tipos de empresas\n",
    "\n",
    "Hay dos tipos de empresas: servicios y productos\n",
    "\n",
    "La importancia dentro del business Intelligence esta basado en entender que la afectación de cada una de las actividades cotidianas en el estado de resultado, conocido como: Income Statement. \n",
    "\n",
    "El Income Statement es un documento que da las pautas de como se afecta las necesidades de los stakeholders.  \n",
    "\n",
    "El Income Statement permite ver como funcionan las utilidades dentro de la empresa.\n",
    "\n",
    "Empresa con prioridades para los accionistas la utilidad es primordial y el Income Statement proporciona información de manera fácil y rápida  que es lo que está sucediendo dentro de la empresa.\n",
    "\n",
    "Por lo tanto es importante entender la diferencia entre rubros. Ambas empresas realizan tareas determinadas. Por el tipo de actividad, se diferencian una de otra y se refleja en el estado de resultados: Income Statement\n",
    "\n",
    "El documento Income Statemen se debe tener cerca en todo momento."
   ]
  },
  {
   "cell_type": "markdown",
   "metadata": {},
   "source": [
    "### Información que contiene el Income Statement\n",
    "\n",
    "* Utilidad bruta\n",
    "* Utilidad Operativa\n",
    "* Utilidad Neta\n",
    "* Gastos de Operación \n",
    "\n",
    "* Afectación sobre utilidad -> afecta a la utilidad bruta."
   ]
  },
  {
   "cell_type": "markdown",
   "metadata": {},
   "source": [
    "Los gastos operativos o de operación: Se refiere a todos los gastos que se realizan mes con mes: Renta del local u oficinas donde se opera, nóminas, mercadotecnia. Es todo aquello que NO esté relacionado a la elaboración de los productos.\n",
    "\n",
    "- Nómina\n",
    "- Renta Local\n",
    "- Mercadotecnia\n",
    "- Servicios: Luz, agua, internet, etc"
   ]
  },
  {
   "cell_type": "markdown",
   "metadata": {},
   "source": [
    "Utilidad bruta = ingresos - Costos de venta"
   ]
  },
  {
   "cell_type": "code",
   "execution_count": 7,
   "metadata": {},
   "outputs": [
    {
     "name": "stdout",
     "output_type": "stream",
     "text": [
      "Utilidad Bruta: $50\n"
     ]
    }
   ],
   "source": [
    "# utilidad bruta\n",
    "ingresos = 100\n",
    "costos_delo_vendido = 50\n",
    "utilidad_bruta = ingresos - costos_delo_vendido\n",
    "\n",
    "print('Utilidad Bruta: $' + str(utilidad_bruta))\n",
    "\n"
   ]
  },
  {
   "cell_type": "markdown",
   "metadata": {},
   "source": [
    "Utilidad Operativa = Utilidad bruta - Gastos de Administración"
   ]
  },
  {
   "cell_type": "code",
   "execution_count": 11,
   "metadata": {},
   "outputs": [
    {
     "name": "stdout",
     "output_type": "stream",
     "text": [
      "Utilidad Operativa: $25\n"
     ]
    }
   ],
   "source": [
    "# utilidad operativa\n",
    "utilidad_bruta = 50\n",
    "gastos_operacion = 25\n",
    "utilidad_operativa = utilidad_bruta - gastos_operacion\n",
    "\n",
    "print('Utilidad Operativa: $' + str(utilidad_operativa))"
   ]
  },
  {
   "cell_type": "markdown",
   "metadata": {},
   "source": [
    "Utilidad Neta = Utilidad operativa - Otros gastos e ingresos - Impuestos\n",
    "\n",
    "Es la más importante porque es el remanente que si interesa, porque es lo que están buscando los accionistas."
   ]
  },
  {
   "cell_type": "markdown",
   "metadata": {},
   "source": [
    "Diferencia entre el Income Statement de una empresa de servicios y una empresa de productos\n",
    "\n",
    "Algunos indicios \n",
    "\n",
    "En una empresa de productos, los costos de ventas son los que estan directamente relacionados con la produccion de los productos.\n",
    "\n",
    "Ejemplo:\n",
    "Empresa que vende sillas\n",
    "\n",
    "Sus costos de producción son el costo de la madera.\n",
    "\n",
    "Cuantas sillas vendí menos cuanta madera compré\n"
   ]
  },
  {
   "cell_type": "markdown",
   "metadata": {},
   "source": [
    "En una empresa de servicios, esté rubro puede ser muy pequeño o no existir"
   ]
  },
  {
   "cell_type": "markdown",
   "metadata": {},
   "source": []
  },
  {
   "cell_type": "markdown",
   "metadata": {},
   "source": []
  },
  {
   "cell_type": "code",
   "execution_count": 10,
   "metadata": {},
   "outputs": [
    {
     "name": "stdout",
     "output_type": "stream",
     "text": [
      "Utilidad Neta: $17.5\n"
     ]
    }
   ],
   "source": [
    "# utilidad neta\n",
    "utilidad_operativa = 25\n",
    "impuestos = utilidad_operativa * 0.3\n",
    "otros_gastos = 0\n",
    "utilidad_neta = utilidad_operativa - otros_gastos - impuestos\n",
    "\n",
    "print(\"Utilidad Neta: $\" + str(utilidad_neta))"
   ]
  },
  {
   "cell_type": "markdown",
   "metadata": {},
   "source": [
    "## Income Statement Simplificado: utilidad bruta, operativa y neta\n",
    "\n",
    "Actividades con afectación distinta\n",
    "\n",
    "Costo de la materia prima afecta  a la utilidad bruta: mientras más producto se venda  más materia se tiene que comprar.\n",
    "\n",
    "Si el Costo de la materia prima aumenta, la utilidad bruta disminuye\n",
    "Si el Costo de la materia prima disminuye, la utilidad bruta aumenta\n",
    "\n",
    "Incremento en la nomina afecta la utilidad operativa disminuyendo\n",
    "\n",
    "Cambios de oficina \n",
    "Si el cambio de oficina aumenta, la utilidad bruta disminuye\n",
    "Si el cambio de oficina disminuye, la utilidad bruta aumenta\n"
   ]
  },
  {
   "cell_type": "markdown",
   "metadata": {},
   "source": [
    "## Ingreso, utilidad y costos"
   ]
  },
  {
   "cell_type": "markdown",
   "metadata": {},
   "source": [
    "## Margen de contribución"
   ]
  },
  {
   "cell_type": "markdown",
   "metadata": {},
   "source": [
    "## Razones matemáticas"
   ]
  },
  {
   "cell_type": "code",
   "execution_count": null,
   "metadata": {},
   "outputs": [],
   "source": []
  }
 ],
 "metadata": {
  "interpreter": {
   "hash": "0b9b3534f52d1960e4aa53bcc60f839557f7d708424ee9b7bdf308f259cc36bc"
  },
  "kernelspec": {
   "display_name": "Python 3.10.0 64-bit ('venv_bi': venv)",
   "language": "python",
   "name": "python3"
  },
  "language_info": {
   "codemirror_mode": {
    "name": "ipython",
    "version": 3
   },
   "file_extension": ".py",
   "mimetype": "text/x-python",
   "name": "python",
   "nbconvert_exporter": "python",
   "pygments_lexer": "ipython3",
   "version": "3.10.0"
  },
  "orig_nbformat": 4
 },
 "nbformat": 4,
 "nbformat_minor": 2
}
